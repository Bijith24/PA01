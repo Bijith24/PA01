{
 "cells": [
  {
   "cell_type": "markdown",
   "id": "b4c8f4b6",
   "metadata": {},
   "source": [
    "# This is my **jupyter** notebook\n",
    "## Heading 2 *Italics*\n",
    "### Heading 3\n",
    "\n",
    "* bullet pt 1\n",
    "* bullet pt 2\n",
    "\n",
    "1. Numbered pt 1\n",
    "2. Numbered pt 2"
   ]
  },
  {
   "cell_type": "code",
   "execution_count": 5,
   "id": "8dff4d0c",
   "metadata": {},
   "outputs": [
    {
     "name": "stdout",
     "output_type": "stream",
     "text": [
      "This program prints integers from 1 to 10\n"
     ]
    }
   ],
   "source": [
    "print(\"This program prints integers from 1 to 10\")"
   ]
  },
  {
   "cell_type": "code",
   "execution_count": 6,
   "id": "a9548058",
   "metadata": {},
   "outputs": [
    {
     "name": "stdout",
     "output_type": "stream",
     "text": [
      "1\n",
      "2\n",
      "3\n",
      "4\n",
      "5\n",
      "6\n",
      "7\n",
      "8\n",
      "9\n",
      "10\n",
      "Thank you\n"
     ]
    }
   ],
   "source": [
    "for I in range(1,11):\n",
    "    print(I)\n",
    "print(\"Thank you\")"
   ]
  },
  {
   "cell_type": "code",
   "execution_count": null,
   "id": "da13db40",
   "metadata": {},
   "outputs": [],
   "source": []
  }
 ],
 "metadata": {
  "kernelspec": {
   "display_name": "Python 3",
   "language": "python",
   "name": "python3"
  },
  "language_info": {
   "codemirror_mode": {
    "name": "ipython",
    "version": 3
   },
   "file_extension": ".py",
   "mimetype": "text/x-python",
   "name": "python",
   "nbconvert_exporter": "python",
   "pygments_lexer": "ipython3",
   "version": "3.8.8"
  }
 },
 "nbformat": 4,
 "nbformat_minor": 5
}
